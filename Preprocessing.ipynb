{
 "cells": [
  {
   "cell_type": "markdown",
   "metadata": {
    "id": "ByKNBvWHSFD5"
   },
   "source": [
    "# **APPLIED STATISTICS PROJECT**"
   ]
  },
  {
   "cell_type": "markdown",
   "metadata": {
    "id": "AF5VrvSQc4Mq"
   },
   "source": [
    "## **Preprocessing_RNA**"
   ]
  },
  {
   "cell_type": "markdown",
   "metadata": {
    "id": "Db_8Vjm8SFD8"
   },
   "source": [
    "## Useful libraries and packages"
   ]
  },
  {
   "cell_type": "code",
   "execution_count": 1,
   "metadata": {
    "id": "4vs3b-2dSFD8"
   },
   "outputs": [],
   "source": [
    "import pandas as pd\n",
    "import numpy as np\n",
    "import matplotlib.pyplot as plt\n",
    "import seaborn as sns\n",
    "from sklearn.decomposition import PCA\n",
    "from sklearn.preprocessing import StandardScaler\n",
    "import mudata\n",
    "import scanpy as sc\n",
    "import anndata as ad\n",
    "from anndata import AnnData\n",
    "from joblib import Parallel, delayed\n",
    "from tqdm import tqdm"
   ]
  },
  {
   "cell_type": "markdown",
   "metadata": {
    "id": "b85kpZ5iSFD9"
   },
   "source": [
    "## File upload"
   ]
  },
  {
   "cell_type": "code",
   "execution_count": 2,
   "metadata": {
    "id": "stC2U6xBSFD9"
   },
   "outputs": [],
   "source": [
    "# Import dataset\n",
    "rna_data = sc.read_h5ad(\"/Users/eli/Desktop/progetto applied/dataset_applied/sampled_full_AML_RNA.h5ad\")\n",
    "adt_data=sc.read_h5ad(\"/Users/eli/Desktop/progetto applied/dataset_applied/sampled_full_AML_ADT.h5ad\")\n",
    "anno_df = pd.read_csv(\"/Users/eli/Desktop/progetto applied/dataset_applied/Las_AML_annoatation.csv\", header=None,names=[\"cell_id\", \"patient_id\", \"cell_type\"])\n",
    "\n",
    "# Remove blank spaces or not-allowed characters, clean\n",
    "anno_df[\"cell_id\"] = anno_df[\"cell_id\"].str.strip()"
   ]
  },
  {
   "cell_type": "markdown",
   "metadata": {
    "id": "BtQ8liCkSFD-"
   },
   "source": [
    "## Printing some information about the datasets"
   ]
  },
  {
   "cell_type": "code",
   "execution_count": 3,
   "metadata": {
    "id": "zfKI2oKFSFD-",
    "outputId": "570c0962-171c-48b0-ffb1-3640c462a32d"
   },
   "outputs": [
    {
     "name": "stdout",
     "output_type": "stream",
     "text": [
      "(211969, 36601)\n",
      "(211970, 3)\n"
     ]
    }
   ],
   "source": [
    "# Print dataset dimensions\n",
    "print(rna_data.shape)\n",
    "print(anno_df.shape)"
   ]
  },
  {
   "cell_type": "code",
   "execution_count": 4,
   "metadata": {
    "id": "_HPzDG_sSFD_",
    "outputId": "63f1120c-4937-4156-cd14-9f88a5ad3aa8"
   },
   "outputs": [
    {
     "name": "stdout",
     "output_type": "stream",
     "text": [
      "                                     sample  n_genes  n_counts  \\\n",
      "AACCAACCATGAAGGC-1_SRR16208932  SRR16208932      635     987.0   \n",
      "AGACCCGAGAATACAC-1_SRR16208931  SRR16208931     1344    2633.0   \n",
      "TGCACGGAGTAGTCTC-1_SRR16208932  SRR16208932     2327    6229.0   \n",
      "CTTTCAAGTATATGGA-1_SRR16208932  SRR16208932     2159    5719.0   \n",
      "ACCAAACTCGTTTACT-1_SRR16208930  SRR16208930      783    1400.0   \n",
      "\n",
      "                                n_genes_by_counts  log1p_n_genes_by_counts  \\\n",
      "AACCAACCATGAAGGC-1_SRR16208932                635                 6.455199   \n",
      "AGACCCGAGAATACAC-1_SRR16208931               1344                 7.204149   \n",
      "TGCACGGAGTAGTCTC-1_SRR16208932               2327                 7.752765   \n",
      "CTTTCAAGTATATGGA-1_SRR16208932               2159                 7.677864   \n",
      "ACCAAACTCGTTTACT-1_SRR16208930                783                 6.664409   \n",
      "\n",
      "                                total_counts  log1p_total_counts  \\\n",
      "AACCAACCATGAAGGC-1_SRR16208932         987.0            6.895683   \n",
      "AGACCCGAGAATACAC-1_SRR16208931        2633.0            7.876259   \n",
      "TGCACGGAGTAGTCTC-1_SRR16208932        6229.0            8.737132   \n",
      "CTTTCAAGTATATGGA-1_SRR16208932        5719.0            8.651724   \n",
      "ACCAAACTCGTTTACT-1_SRR16208930        1400.0            7.244942   \n",
      "\n",
      "                                pct_counts_in_top_20_genes  total_counts_mt  \\\n",
      "AACCAACCATGAAGGC-1_SRR16208932                   25.734549            169.0   \n",
      "AGACCCGAGAATACAC-1_SRR16208931                   20.205089            368.0   \n",
      "TGCACGGAGTAGTCTC-1_SRR16208932                   15.106759            290.0   \n",
      "CTTTCAAGTATATGGA-1_SRR16208932                   21.454800            274.0   \n",
      "ACCAAACTCGTTTACT-1_SRR16208930                   17.500000             59.0   \n",
      "\n",
      "                                log1p_total_counts_mt  ...  \\\n",
      "AACCAACCATGAAGGC-1_SRR16208932               5.135798  ...   \n",
      "AGACCCGAGAATACAC-1_SRR16208931               5.910797  ...   \n",
      "TGCACGGAGTAGTCTC-1_SRR16208932               5.673323  ...   \n",
      "CTTTCAAGTATATGGA-1_SRR16208932               5.616771  ...   \n",
      "ACCAAACTCGTTTACT-1_SRR16208930               4.094345  ...   \n",
      "\n",
      "                                log1p_total_counts_ribo  pct_counts_ribo  \\\n",
      "AACCAACCATGAAGGC-1_SRR16208932                 2.944439         1.823708   \n",
      "AGACCCGAGAATACAC-1_SRR16208931                 4.304065         2.772503   \n",
      "TGCACGGAGTAGTCTC-1_SRR16208932                 7.273787        23.133730   \n",
      "CTTTCAAGTATATGGA-1_SRR16208932                 7.160846        22.503935   \n",
      "ACCAAACTCGTTTACT-1_SRR16208930                 5.996452        28.642857   \n",
      "\n",
      "                                total_counts_hb  log1p_total_counts_hb  \\\n",
      "AACCAACCATGAAGGC-1_SRR16208932              8.0               2.197225   \n",
      "AGACCCGAGAATACAC-1_SRR16208931              8.0               2.197225   \n",
      "TGCACGGAGTAGTCTC-1_SRR16208932              3.0               1.386294   \n",
      "CTTTCAAGTATATGGA-1_SRR16208932            684.0               6.529419   \n",
      "ACCAAACTCGTTTACT-1_SRR16208930              3.0               1.386294   \n",
      "\n",
      "                                pct_counts_hb  outlier  \\\n",
      "AACCAACCATGAAGGC-1_SRR16208932       0.810537     True   \n",
      "AGACCCGAGAATACAC-1_SRR16208931       0.303836     True   \n",
      "TGCACGGAGTAGTCTC-1_SRR16208932       0.048162    False   \n",
      "CTTTCAAGTATATGGA-1_SRR16208932      11.960134    False   \n",
      "ACCAAACTCGTTTACT-1_SRR16208930       0.214286    False   \n",
      "\n",
      "                                doublet_scores_scrublet  \\\n",
      "AACCAACCATGAAGGC-1_SRR16208932                 0.043786   \n",
      "AGACCCGAGAATACAC-1_SRR16208931                 0.056462   \n",
      "TGCACGGAGTAGTCTC-1_SRR16208932                 0.055336   \n",
      "CTTTCAAGTATATGGA-1_SRR16208932                 0.017757   \n",
      "ACCAAACTCGTTTACT-1_SRR16208930                 0.101510   \n",
      "\n",
      "                                predicted_doublets_scrublet  sample_demult  \\\n",
      "AACCAACCATGAAGGC-1_SRR16208932                        False         PAWWEE   \n",
      "AGACCCGAGAATACAC-1_SRR16208931                        False         PAWWEE   \n",
      "TGCACGGAGTAGTCTC-1_SRR16208932                        False         PAWWEE   \n",
      "CTTTCAAGTATATGGA-1_SRR16208932                        False         PAWWEE   \n",
      "ACCAAACTCGTTTACT-1_SRR16208930                        False         PAWWEE   \n",
      "\n",
      "                                          age  \n",
      "AACCAACCATGAAGGC-1_SRR16208932  Pediatric_AML  \n",
      "AGACCCGAGAATACAC-1_SRR16208931  Pediatric_AML  \n",
      "TGCACGGAGTAGTCTC-1_SRR16208932  Pediatric_AML  \n",
      "CTTTCAAGTATATGGA-1_SRR16208932  Pediatric_AML  \n",
      "ACCAAACTCGTTTACT-1_SRR16208930  Pediatric_AML  \n",
      "\n",
      "[5 rows x 22 columns]\n"
     ]
    }
   ],
   "source": [
    "# Head of rna_data to see an example of the dataset\n",
    "print(rna_data.obs.head())"
   ]
  },
  {
   "cell_type": "code",
   "execution_count": 5,
   "metadata": {
    "id": "FSPlyhmrSFD_",
    "outputId": "8a895144-c222-4b58-e951-bd5cb184431e"
   },
   "outputs": [
    {
     "name": "stdout",
     "output_type": "stream",
     "text": [
      "Number of samples in RNA: 32\n"
     ]
    }
   ],
   "source": [
    "# Number of samples in rna_data\n",
    "num_sample_RNA= rna_data.obs[\"sample_demult\"].nunique()\n",
    "\n",
    "print(f\"Number of samples in RNA: {num_sample_RNA}\")"
   ]
  },
  {
   "cell_type": "code",
   "execution_count": 6,
   "metadata": {
    "id": "YImjAPsGSFEA",
    "outputId": "0143f6d3-bb86-48b5-eeaf-851d2945c8b8"
   },
   "outputs": [
    {
     "name": "stdout",
     "output_type": "stream",
     "text": [
      "Index(['sample', 'n_genes', 'n_counts', 'n_genes_by_counts',\n",
      "       'log1p_n_genes_by_counts', 'total_counts', 'log1p_total_counts',\n",
      "       'pct_counts_in_top_20_genes', 'total_counts_mt',\n",
      "       'log1p_total_counts_mt', 'pct_counts_mt', 'total_counts_ribo',\n",
      "       'log1p_total_counts_ribo', 'pct_counts_ribo', 'total_counts_hb',\n",
      "       'log1p_total_counts_hb', 'pct_counts_hb', 'outlier',\n",
      "       'doublet_scores_scrublet', 'predicted_doublets_scrublet',\n",
      "       'sample_demult', 'age'],\n",
      "      dtype='object')\n"
     ]
    }
   ],
   "source": [
    "# Columns of each data frame\n",
    "print(rna_data.obs.columns)"
   ]
  },
  {
   "cell_type": "markdown",
   "metadata": {
    "id": "GiBS9JAESFEA"
   },
   "source": [
    "## Building a new dataset grouping by cell type and patient with MEDIAN"
   ]
  },
  {
   "cell_type": "code",
   "execution_count": 7,
   "metadata": {
    "id": "4-IRV8YlSFEA"
   },
   "outputs": [],
   "source": [
    "# Make sure that IDs coincide\n",
    "rna_data.obs['cell_id'] = rna_data.obs_names\n",
    "\n",
    "# Merge annotations about cells\n",
    "rna_data.obs = rna_data.obs.merge(anno_df, on='cell_id', how='left')"
   ]
  },
  {
   "cell_type": "code",
   "execution_count": 8,
   "metadata": {
    "id": "MmoRlTvPcjnK"
   },
   "outputs": [
    {
     "name": "stderr",
     "output_type": "stream",
     "text": [
      " 35%|███▍      | 8/23 [00:19<00:00, 59.74it/s]/var/folders/j6/lv3wvk8n4d5_56_n296yy_t00000gn/T/ipykernel_1220/2945878545.py:22: FutureWarning: The provided callable <function median at 0x102210790> is currently using DataFrameGroupBy.median. In a future version of pandas, the provided callable will be used directly. To keep current behavior pass the string \"median\" instead.\n",
      "/var/folders/j6/lv3wvk8n4d5_56_n296yy_t00000gn/T/ipykernel_1220/2945878545.py:22: FutureWarning: The provided callable <function median at 0x102034790> is currently using DataFrameGroupBy.median. In a future version of pandas, the provided callable will be used directly. To keep current behavior pass the string \"median\" instead.\n",
      "/var/folders/j6/lv3wvk8n4d5_56_n296yy_t00000gn/T/ipykernel_1220/2945878545.py:22: FutureWarning: The provided callable <function median at 0x10565c790> is currently using DataFrameGroupBy.median. In a future version of pandas, the provided callable will be used directly. To keep current behavior pass the string \"median\" instead.\n",
      "100%|██████████| 23/23 [00:20<00:00,  1.13it/s]\n",
      "/var/folders/j6/lv3wvk8n4d5_56_n296yy_t00000gn/T/ipykernel_1220/2945878545.py:22: FutureWarning: The provided callable <function median at 0x104068790> is currently using DataFrameGroupBy.median. In a future version of pandas, the provided callable will be used directly. To keep current behavior pass the string \"median\" instead.\n",
      "/var/folders/j6/lv3wvk8n4d5_56_n296yy_t00000gn/T/ipykernel_1220/2945878545.py:22: FutureWarning: The provided callable <function median at 0x106edc790> is currently using DataFrameGroupBy.median. In a future version of pandas, the provided callable will be used directly. To keep current behavior pass the string \"median\" instead.\n",
      "/var/folders/j6/lv3wvk8n4d5_56_n296yy_t00000gn/T/ipykernel_1220/2945878545.py:22: FutureWarning: The provided callable <function median at 0x1049fc790> is currently using DataFrameGroupBy.median. In a future version of pandas, the provided callable will be used directly. To keep current behavior pass the string \"median\" instead.\n",
      "/var/folders/j6/lv3wvk8n4d5_56_n296yy_t00000gn/T/ipykernel_1220/2945878545.py:22: FutureWarning: The provided callable <function median at 0x10375c790> is currently using DataFrameGroupBy.median. In a future version of pandas, the provided callable will be used directly. To keep current behavior pass the string \"median\" instead.\n",
      "/var/folders/j6/lv3wvk8n4d5_56_n296yy_t00000gn/T/ipykernel_1220/2945878545.py:22: FutureWarning: The provided callable <function median at 0x10793c790> is currently using DataFrameGroupBy.median. In a future version of pandas, the provided callable will be used directly. To keep current behavior pass the string \"median\" instead.\n",
      "/var/folders/j6/lv3wvk8n4d5_56_n296yy_t00000gn/T/ipykernel_1220/2945878545.py:22: FutureWarning: The provided callable <function median at 0x102210790> is currently using DataFrameGroupBy.median. In a future version of pandas, the provided callable will be used directly. To keep current behavior pass the string \"median\" instead.\n",
      "/var/folders/j6/lv3wvk8n4d5_56_n296yy_t00000gn/T/ipykernel_1220/2945878545.py:22: FutureWarning: The provided callable <function median at 0x102034790> is currently using DataFrameGroupBy.median. In a future version of pandas, the provided callable will be used directly. To keep current behavior pass the string \"median\" instead.\n",
      "/var/folders/j6/lv3wvk8n4d5_56_n296yy_t00000gn/T/ipykernel_1220/2945878545.py:22: FutureWarning: The provided callable <function median at 0x10565c790> is currently using DataFrameGroupBy.median. In a future version of pandas, the provided callable will be used directly. To keep current behavior pass the string \"median\" instead.\n",
      "/var/folders/j6/lv3wvk8n4d5_56_n296yy_t00000gn/T/ipykernel_1220/2945878545.py:22: FutureWarning: The provided callable <function median at 0x104068790> is currently using DataFrameGroupBy.median. In a future version of pandas, the provided callable will be used directly. To keep current behavior pass the string \"median\" instead.\n",
      "/var/folders/j6/lv3wvk8n4d5_56_n296yy_t00000gn/T/ipykernel_1220/2945878545.py:22: FutureWarning: The provided callable <function median at 0x10793c790> is currently using DataFrameGroupBy.median. In a future version of pandas, the provided callable will be used directly. To keep current behavior pass the string \"median\" instead.\n",
      "/var/folders/j6/lv3wvk8n4d5_56_n296yy_t00000gn/T/ipykernel_1220/2945878545.py:22: FutureWarning: The provided callable <function median at 0x10565c790> is currently using DataFrameGroupBy.median. In a future version of pandas, the provided callable will be used directly. To keep current behavior pass the string \"median\" instead.\n",
      "/var/folders/j6/lv3wvk8n4d5_56_n296yy_t00000gn/T/ipykernel_1220/2945878545.py:22: FutureWarning: The provided callable <function median at 0x10375c790> is currently using DataFrameGroupBy.median. In a future version of pandas, the provided callable will be used directly. To keep current behavior pass the string \"median\" instead.\n",
      "/var/folders/j6/lv3wvk8n4d5_56_n296yy_t00000gn/T/ipykernel_1220/2945878545.py:22: FutureWarning: The provided callable <function median at 0x102210790> is currently using DataFrameGroupBy.median. In a future version of pandas, the provided callable will be used directly. To keep current behavior pass the string \"median\" instead.\n",
      "/var/folders/j6/lv3wvk8n4d5_56_n296yy_t00000gn/T/ipykernel_1220/2945878545.py:22: FutureWarning: The provided callable <function median at 0x102034790> is currently using DataFrameGroupBy.median. In a future version of pandas, the provided callable will be used directly. To keep current behavior pass the string \"median\" instead.\n",
      "/var/folders/j6/lv3wvk8n4d5_56_n296yy_t00000gn/T/ipykernel_1220/2945878545.py:22: FutureWarning: The provided callable <function median at 0x104068790> is currently using DataFrameGroupBy.median. In a future version of pandas, the provided callable will be used directly. To keep current behavior pass the string \"median\" instead.\n",
      "/var/folders/j6/lv3wvk8n4d5_56_n296yy_t00000gn/T/ipykernel_1220/2945878545.py:22: FutureWarning: The provided callable <function median at 0x106edc790> is currently using DataFrameGroupBy.median. In a future version of pandas, the provided callable will be used directly. To keep current behavior pass the string \"median\" instead.\n",
      "/var/folders/j6/lv3wvk8n4d5_56_n296yy_t00000gn/T/ipykernel_1220/2945878545.py:22: FutureWarning: The provided callable <function median at 0x1049fc790> is currently using DataFrameGroupBy.median. In a future version of pandas, the provided callable will be used directly. To keep current behavior pass the string \"median\" instead.\n",
      "/var/folders/j6/lv3wvk8n4d5_56_n296yy_t00000gn/T/ipykernel_1220/2945878545.py:22: FutureWarning: The provided callable <function median at 0x10793c790> is currently using DataFrameGroupBy.median. In a future version of pandas, the provided callable will be used directly. To keep current behavior pass the string \"median\" instead.\n",
      "/var/folders/j6/lv3wvk8n4d5_56_n296yy_t00000gn/T/ipykernel_1220/2945878545.py:22: FutureWarning: The provided callable <function median at 0x10565c790> is currently using DataFrameGroupBy.median. In a future version of pandas, the provided callable will be used directly. To keep current behavior pass the string \"median\" instead.\n",
      "/var/folders/j6/lv3wvk8n4d5_56_n296yy_t00000gn/T/ipykernel_1220/2945878545.py:22: FutureWarning: The provided callable <function median at 0x10375c790> is currently using DataFrameGroupBy.median. In a future version of pandas, the provided callable will be used directly. To keep current behavior pass the string \"median\" instead.\n"
     ]
    },
    {
     "name": "stdout",
     "output_type": "stream",
     "text": [
      "Final shape: (434, 36601)\n"
     ]
    }
   ],
   "source": [
    "# Extract the expression matrix from the AnnData object\n",
    "expr = rna_data.to_df()\n",
    "\n",
    "# Append metadata \n",
    "expr['patient_id'] = rna_data.obs['patient_id'].values\n",
    "expr['cell_type'] = rna_data.obs['cell_type'].values\n",
    "\n",
    "# Select only numeric columns (gene expression values)\n",
    "numeric_cols = expr.select_dtypes(include=[np.number]).columns\n",
    "\n",
    "# List of unique patient IDs\n",
    "unique_patients = expr['patient_id'].unique()\n",
    "\n",
    "# Function to process a single patient: compute median expression per cell type\n",
    "def process_patient_np(pid):\n",
    "    patient_df = expr[expr['patient_id'] == pid]\n",
    "\n",
    "    # Group by cell type and compute the median gene expression\n",
    "    grouped = patient_df.groupby('cell_type')[numeric_cols].agg(np.median)\n",
    "\n",
    "    # Retain patient ID for index reconstruction\n",
    "    grouped['patient_id'] = pid\n",
    "\n",
    "    return grouped.reset_index()  \n",
    "\n",
    "# Parallel execution across all patients \n",
    "results = Parallel(n_jobs=8)(\n",
    "    delayed(process_patient_np)(pid) for pid in tqdm(unique_patients)\n",
    ")\n",
    "\n",
    "# Combine all results into a single DataFrame\n",
    "combined_df = pd.concat(results, ignore_index=True)\n",
    "\n",
    "# Set multi-index: (patient_id, cell_type)\n",
    "combined_df = combined_df.set_index(['patient_id', 'cell_type'])\n",
    "combined_df = combined_df.copy()\n",
    "\n",
    "print(\"Final shape:\", combined_df.shape)\n"
   ]
  },
  {
   "cell_type": "code",
   "execution_count": 9,
   "metadata": {
    "id": "FIA1WXRIcjnL"
   },
   "outputs": [],
   "source": [
    "# Save DataFrame\n",
    "combined_df.to_csv(\"median_expression.csv\")"
   ]
  },
  {
   "cell_type": "markdown",
   "metadata": {
    "id": "B5hGZ2W8cjnL"
   },
   "source": [
    "### Add AGE to the median dataset"
   ]
  },
  {
   "cell_type": "code",
   "execution_count": null,
   "metadata": {
    "id": "F7hay_LacjnM"
   },
   "outputs": [],
   "source": [
    "median_data = pd.read_csv('/Users/eli/Desktop/progetto applied/dataset_applied/median_expression.csv')"
   ]
  },
  {
   "cell_type": "code",
   "execution_count": 11,
   "metadata": {
    "id": "68Kr9Fg5cjnM",
    "outputId": "2cc4cfea-df4e-428d-8159-f7c403ecd49b"
   },
   "outputs": [
    {
     "name": "stdout",
     "output_type": "stream",
     "text": [
      "Shape: (434, 36603)\n"
     ]
    }
   ],
   "source": [
    "print(f\"Shape: {median_data.shape}\")"
   ]
  },
  {
   "cell_type": "code",
   "execution_count": 30,
   "metadata": {
    "id": "MnmzodUScjnM",
    "outputId": "9dba5255-f4ba-4a14-e119-cf0531a0895b"
   },
   "outputs": [
    {
     "name": "stdout",
     "output_type": "stream",
     "text": [
      "     AC243829.5    CAMTA1  CD8B       TPR  GPN1\n",
      "146         0.0  1.020917   0.0  0.863037   0.0\n",
      "307         0.0  0.000000   0.0  0.000000   0.0\n",
      "106         0.0  0.000000   0.0  0.000000   0.0\n",
      "323         0.0  0.403792   0.0  0.462323   0.0\n",
      "124         0.0  0.329250   0.0  0.288220   0.0\n"
     ]
    }
   ],
   "source": [
    "# Display a few (num_cols) columns to verify the correctness of the generated DataFrame\n",
    "num_cols = 5\n",
    "\n",
    "# Randomly select a subset of numeric columns \n",
    "random_cols = np.random.choice(median_data.columns, size=num_cols, replace=False)\n",
    "\n",
    "# Print 5 random rows from the selected columns\n",
    "print(median_data[random_cols].sample(5))"
   ]
  },
  {
   "cell_type": "code",
   "execution_count": 31,
   "metadata": {
    "id": "epgxuEMYcjnN"
   },
   "outputs": [],
   "source": [
    "# Create a dictionary mapping each patient_id to its corresponding age category\n",
    "\n",
    "patient_to_age = {\n",
    "    'SRR16208932': 'Pediatric_AML',\n",
    "    'SRR16208931': 'Pediatric_AML',\n",
    "    'SRR16208930': 'Pediatric_AML',\n",
    "    'SRR16208925': 'CNTRL',\n",
    "    'SRR16208927': 'CNTRL',\n",
    "    'SRR16208926': 'CNTRL',\n",
    "    'SRR16208924': 'CNTRL',\n",
    "    'SRR16208937': 'Pediatric_AML',\n",
    "    'SRR16208938': 'Pediatric_AML',\n",
    "    'SRR16208942': 'Pediatric_AML',\n",
    "    'SRR16208941': 'Pediatric_AML',\n",
    "    'SRR16208929': 'Adult_AML',\n",
    "    'SRR16208928': 'Adult_AML',\n",
    "    'SRR16208948': 'Pediatric_AML',\n",
    "    'SRR16208947': 'CNTRL',\n",
    "    'SRR16208946': 'CNTRL',\n",
    "    'SRR16208943': 'Adult_AML',\n",
    "    'SRR16208944': 'Adult_AML',\n",
    "    'SRR16208940': 'Pediatric_AML',\n",
    "    'SRR16208939': 'Pediatric_AML',\n",
    "    'SRR16208923': 'Adult_AML',\n",
    "    'SRR16208921': 'Adult_AML',\n",
    "    'SRR16208922': 'Adult_AML'\n",
    "}\n",
    "\n",
    "# Function to retrieve age category given a patient_id\n",
    "def get_age(patient_id):\n",
    "    return patient_to_age.get(patient_id, 'Unknown')  # Returns 'Unknown' if patient_id is not found\n",
    "\n",
    "# Apply the get_age function to each row using the 'patient_id' column\n",
    "median_data['age'] = median_data['patient_id'].apply(lambda x: get_age(x))\n",
    "\n",
    "# Reorder the columns to place 'age' as the third column\n",
    "cols = median_data.columns.tolist()\n",
    "cols.remove('age')\n",
    "cols.insert(2, 'age')\n",
    "median_data = median_data[cols]\n",
    "\n",
    "# Save the updated DataFrame to a new CSV file\n",
    "median_data.to_csv(\"median_with_age.csv\", index=False)\n",
    "\n"
   ]
  },
  {
   "cell_type": "markdown",
   "metadata": {},
   "source": [
    "## PCA on Rna dataset"
   ]
  },
  {
   "cell_type": "markdown",
   "metadata": {},
   "source": [
    "### Build AnnData dataset"
   ]
  },
  {
   "cell_type": "code",
   "execution_count": 14,
   "metadata": {},
   "outputs": [],
   "source": [
    "rna_data = pd.read_csv(\"/Users/eli/Desktop/progetto applied/dataset_applied/median_with_age.csv\")"
   ]
  },
  {
   "cell_type": "code",
   "execution_count": 15,
   "metadata": {},
   "outputs": [
    {
     "data": {
      "text/plain": [
       "<bound method NDFrame.head of       patient_id           cell_type            age  MIR1302-2HG  FAM138A  \\\n",
       "0    SRR16208932              B cell  Pediatric_AML          0.0      0.0   \n",
       "1    SRR16208932              B_prog  Pediatric_AML          0.0      0.0   \n",
       "2    SRR16208932                 CLP  Pediatric_AML          0.0      0.0   \n",
       "3    SRR16208932           Early GMP  Pediatric_AML          0.0      0.0   \n",
       "4    SRR16208932           Erythroid  Pediatric_AML          0.0      0.0   \n",
       "..           ...                 ...            ...          ...      ...   \n",
       "429  SRR16208922             Pre-cDC      Adult_AML          0.0      0.0   \n",
       "430  SRR16208922             Pre-pDC      Adult_AML          0.0      0.0   \n",
       "431  SRR16208922             ProMono      Adult_AML          0.0      0.0   \n",
       "432  SRR16208922  Progenitor_Cycling      Adult_AML          0.0      0.0   \n",
       "433  SRR16208922              T cell      Adult_AML          0.0      0.0   \n",
       "\n",
       "     OR4F5  AL627309.1  AL627309.3  AL627309.2  AL627309.5  ...  AC133551.1  \\\n",
       "0      0.0         0.0         0.0         0.0         0.0  ...         0.0   \n",
       "1      0.0         0.0         0.0         0.0         0.0  ...         0.0   \n",
       "2      0.0         0.0         0.0         0.0         0.0  ...         0.0   \n",
       "3      0.0         0.0         0.0         0.0         0.0  ...         0.0   \n",
       "4      0.0         0.0         0.0         0.0         0.0  ...         0.0   \n",
       "..     ...         ...         ...         ...         ...  ...         ...   \n",
       "429    0.0         0.0         0.0         0.0         0.0  ...         0.0   \n",
       "430    0.0         0.0         0.0         0.0         0.0  ...         0.0   \n",
       "431    0.0         0.0         0.0         0.0         0.0  ...         0.0   \n",
       "432    0.0         0.0         0.0         0.0         0.0  ...         0.0   \n",
       "433    0.0         0.0         0.0         0.0         0.0  ...         0.0   \n",
       "\n",
       "     AC136612.1  AC136616.1  AC136616.3  AC136616.2  AC141272.1  AC023491.2  \\\n",
       "0           0.0         0.0         0.0         0.0         0.0         0.0   \n",
       "1           0.0         0.0         0.0         0.0         0.0         0.0   \n",
       "2           0.0         0.0         0.0         0.0         0.0         0.0   \n",
       "3           0.0         0.0         0.0         0.0         0.0         0.0   \n",
       "4           0.0         0.0         0.0         0.0         0.0         0.0   \n",
       "..          ...         ...         ...         ...         ...         ...   \n",
       "429         0.0         0.0         0.0         0.0         0.0         0.0   \n",
       "430         0.0         0.0         0.0         0.0         0.0         0.0   \n",
       "431         0.0         0.0         0.0         0.0         0.0         0.0   \n",
       "432         0.0         0.0         0.0         0.0         0.0         0.0   \n",
       "433         0.0         0.0         0.0         0.0         0.0         0.0   \n",
       "\n",
       "     AC007325.1  AC007325.4  AC007325.2  \n",
       "0           0.0         0.0         0.0  \n",
       "1           0.0         0.0         0.0  \n",
       "2           0.0         0.0         0.0  \n",
       "3           0.0         0.0         0.0  \n",
       "4           0.0         0.0         0.0  \n",
       "..          ...         ...         ...  \n",
       "429         0.0         0.0         0.0  \n",
       "430         0.0         0.0         0.0  \n",
       "431         0.0         0.0         0.0  \n",
       "432         0.0         0.0         0.0  \n",
       "433         0.0         0.0         0.0  \n",
       "\n",
       "[434 rows x 36604 columns]>"
      ]
     },
     "execution_count": 15,
     "metadata": {},
     "output_type": "execute_result"
    }
   ],
   "source": [
    "# Display some rows and columns of the dataset\n",
    "rna_data.head"
   ]
  },
  {
   "cell_type": "code",
   "execution_count": 16,
   "metadata": {},
   "outputs": [],
   "source": [
    "# Create AnnData dataset\n",
    "# Extract gene columns\n",
    "genes_only = rna_data.drop(columns=['patient_id', 'cell_type', 'age'])\n",
    "\n",
    "data = AnnData(genes_only.values)\n",
    "\n",
    "# Add metadata\n",
    "data.obs = rna_data[['patient_id', 'cell_type', 'age']]\n"
   ]
  },
  {
   "cell_type": "markdown",
   "metadata": {},
   "source": [
    "### 100 PCs components"
   ]
  },
  {
   "cell_type": "code",
   "execution_count": 17,
   "metadata": {},
   "outputs": [],
   "source": [
    "sc.tl.pca(data, n_comps=100, svd_solver='arpack')"
   ]
  },
  {
   "cell_type": "code",
   "execution_count": 18,
   "metadata": {},
   "outputs": [
    {
     "data": {
      "image/png": "[encoded data removed]",
      "text/plain": [
       "<Figure size 2000x1200 with 1 Axes>"
      ]
     },
     "metadata": {},
     "output_type": "display_data"
    }
   ],
   "source": [
    "# Make variance plot\n",
    "pca_variance_ratio = data.uns['pca']['variance_ratio']\n",
    "cumulative_variance = np.cumsum(pca_variance_ratio)\n",
    "\n",
    "# Plot\n",
    "plt.figure(figsize=(20, 12))\n",
    "plt.plot(range(1, len(pca_variance_ratio) + 1), pca_variance_ratio, marker='o', label='Variance per component')\n",
    "plt.plot(range(1, len(cumulative_variance) + 1), cumulative_variance, marker='x', linestyle='', label='Cumulative variance')\n",
    "\n",
    "plt.title('Explained Variance by Principal Components', fontsize=16)\n",
    "plt.xlabel('Number of Principal Components', fontsize=14)\n",
    "plt.ylabel('Explained Variance', fontsize=14)\n",
    "\n",
    "plt.ylim(0, 1.05)\n",
    "plt.legend()\n",
    "plt.grid(True)\n",
    "plt.tight_layout()\n",
    "plt.show()\n"
   ]
  },
  {
   "cell_type": "code",
   "execution_count": 19,
   "metadata": {},
   "outputs": [],
   "source": [
    "# Take first 30 components from data.obsm['X_pca']\n",
    "pca_array = data.obsm['X_pca'][:, :30]\n",
    "\n",
    "# Build a new DataFrame with these 30 components\n",
    "pca_scores = pd.DataFrame(\n",
    "    pca_array,\n",
    "    columns=[f'PC{i+1}' for i in range(pca_array.shape[1])]\n",
    ")\n",
    "\n",
    "# Add metadata\n",
    "pca_scores['patient_id'] = data.obs['patient_id'].values\n",
    "pca_scores['age'] = data.obs['age'].values\n",
    "pca_scores['cell_type'] = data.obs['cell_type'].values\n",
    "\n",
    "ordered_columns = ['patient_id', 'age', 'cell_type'] + [col for col in pca_scores.columns if col.startswith('PC')]\n",
    "pca_scores = pca_scores[ordered_columns]\n",
    "\n",
    "# Save the DataFrame\n",
    "pca_scores.to_csv('rna_scores_30pcs.csv', index=True)"
   ]
  },
  {
   "cell_type": "code",
   "execution_count": 20,
   "metadata": {},
   "outputs": [],
   "source": [
    "# Save the loadings of the principal components\n",
    "loadings_array = data.varm['PCs'][:, :30]  # tutte le variabili, prime 30 componenti\n",
    "\n",
    "loadings_df = pd.DataFrame(\n",
    "    loadings_array,\n",
    "    columns=[f'PC{i+1}' for i in range(loadings_array.shape[1])],\n",
    "    index=rna_data.drop(columns=['patient_id', 'cell_type', 'age']).columns  # nomi geni\n",
    ")\n",
    "\n",
    "loadings_df.to_csv(\"rna_loadings_30pcs.csv\")"
   ]
  },
  {
   "cell_type": "markdown",
   "metadata": {},
   "source": [
    "## **Preprocessing_ADT**"
   ]
  },
  {
   "cell_type": "markdown",
   "metadata": {},
   "source": [
    "## Print some info about this dataset"
   ]
  },
  {
   "cell_type": "code",
   "execution_count": 21,
   "metadata": {},
   "outputs": [
    {
     "name": "stdout",
     "output_type": "stream",
     "text": [
      "AnnData object with n_obs × n_vars = 211969 × 61\n",
      "    obs: 'sample', 'n_genes_by_counts', 'log1p_n_genes_by_counts', 'total_counts', 'log1p_total_counts', 'sample_demult'\n",
      "    var: 'gene_symbol', 'gene_id'\n",
      "    obsm: 'uninteg_UMAP'\n",
      "    layers: 'raw_counts'\n",
      "                                     sample  n_genes_by_counts  \\\n",
      "AACCAACCATGAAGGC-1_SRR16208932  SRR16208932                 65   \n",
      "AGACCCGAGAATACAC-1_SRR16208931  SRR16208931                 65   \n",
      "TGCACGGAGTAGTCTC-1_SRR16208932  SRR16208932                 62   \n",
      "CTTTCAAGTATATGGA-1_SRR16208932  SRR16208932                 53   \n",
      "ACCAAACTCGTTTACT-1_SRR16208930  SRR16208930                 60   \n",
      "\n",
      "                                log1p_n_genes_by_counts  total_counts  \\\n",
      "AACCAACCATGAAGGC-1_SRR16208932                 4.189655        1472.0   \n",
      "AGACCCGAGAATACAC-1_SRR16208931                 4.189655         847.0   \n",
      "TGCACGGAGTAGTCTC-1_SRR16208932                 4.143135         324.0   \n",
      "CTTTCAAGTATATGGA-1_SRR16208932                 3.988984         444.0   \n",
      "ACCAAACTCGTTTACT-1_SRR16208930                 4.110874         376.0   \n",
      "\n",
      "                                log1p_total_counts sample_demult  \n",
      "AACCAACCATGAAGGC-1_SRR16208932            7.295056        PAWWEE  \n",
      "AGACCCGAGAATACAC-1_SRR16208931            6.742881        PAWWEE  \n",
      "TGCACGGAGTAGTCTC-1_SRR16208932            5.783825        PAWWEE  \n",
      "CTTTCAAGTATATGGA-1_SRR16208932            6.098074        PAWWEE  \n",
      "ACCAAACTCGTTTACT-1_SRR16208930            5.932245        PAWWEE  \n",
      "                                    CD1A      CD1C       CD2       CD3  \\\n",
      "AACCAACCATGAAGGC-1_SRR16208932  0.519078  0.434404  0.393461  0.665748   \n",
      "AGACCCGAGAATACAC-1_SRR16208931  1.625876  1.155677  1.359081  1.061910   \n",
      "TGCACGGAGTAGTCTC-1_SRR16208932  0.519078  0.000000  0.000000  0.387282   \n",
      "CTTTCAAGTATATGGA-1_SRR16208932  0.000000  0.000000  0.393461  0.000000   \n",
      "ACCAAACTCGTTTACT-1_SRR16208930  0.519078  0.736248  0.000000  0.212274   \n",
      "\n",
      "                                     CD4       CD5       CD7      CD8  \\\n",
      "AACCAACCATGAAGGC-1_SRR16208932  0.000000  0.346480  0.620490  0.35045   \n",
      "AGACCCGAGAATACAC-1_SRR16208931  0.575030  1.248321  0.889151  1.37066   \n",
      "TGCACGGAGTAGTCTC-1_SRR16208932  0.772779  0.676097  0.620490  0.35045   \n",
      "CTTTCAAGTATATGGA-1_SRR16208932  0.000000  0.603311  0.620490  0.35045   \n",
      "ACCAAACTCGTTTACT-1_SRR16208930  0.000000  0.439614  0.252013  0.35045   \n",
      "\n",
      "                                    CD10     CD11B  ...     CD223    CD235A  \\\n",
      "AACCAACCATGAAGGC-1_SRR16208932  3.179363  0.415810  ...  0.743979  0.000000   \n",
      "AGACCCGAGAATACAC-1_SRR16208931  1.387319  0.000000  ...  0.743979  0.919057   \n",
      "TGCACGGAGTAGTCTC-1_SRR16208932  0.405921  0.000000  ...  0.603342  0.756213   \n",
      "CTTTCAAGTATATGGA-1_SRR16208932  0.000000  0.708624  ...  0.439638  0.319712   \n",
      "ACCAAACTCGTTTACT-1_SRR16208930  0.000000  0.708624  ...  0.439638  0.561593   \n",
      "\n",
      "                                   CD244     CD278     CD279     CD294  \\\n",
      "AACCAACCATGAAGGC-1_SRR16208932  0.608546  0.000000  0.647041  0.670246   \n",
      "AGACCCGAGAATACAC-1_SRR16208931  1.173726  0.373344  0.520227  1.135914   \n",
      "TGCACGGAGTAGTCTC-1_SRR16208932  0.608546  0.644570  0.374965  0.888746   \n",
      "CTTTCAAGTATATGGA-1_SRR16208932  0.000000  0.644570  0.204955  0.769784   \n",
      "ACCAAACTCGTTTACT-1_SRR16208930  0.246276  0.644570  0.647041  0.888746   \n",
      "\n",
      "                                  HLA-DR       IGD       IGM     TIGIT  \n",
      "AACCAACCATGAAGGC-1_SRR16208932  0.362377  0.728479  1.967531  0.410170  \n",
      "AGACCCGAGAATACAC-1_SRR16208931  0.627799  1.558511  0.902191  0.700197  \n",
      "TGCACGGAGTAGTCTC-1_SRR16208932  0.362377  0.429157  0.630739  0.000000  \n",
      "CTTTCAAGTATATGGA-1_SRR16208932  0.627799  0.429157  0.364295  0.000000  \n",
      "ACCAAACTCGTTTACT-1_SRR16208930  0.627799  1.558511  0.959924  0.000000  \n",
      "\n",
      "[5 rows x 61 columns]\n"
     ]
    }
   ],
   "source": [
    "print(adt_data)\n",
    "print(adt_data.obs.head())\n",
    "print(adt_data.to_df().head())"
   ]
  },
  {
   "cell_type": "code",
   "execution_count": 22,
   "metadata": {},
   "outputs": [],
   "source": [
    "adt_data.obs['cell_id'] = adt_data.obs_names\n",
    "adt_data.obs = adt_data.obs.merge(anno_df, on='cell_id', how='left')"
   ]
  },
  {
   "cell_type": "code",
   "execution_count": 23,
   "metadata": {},
   "outputs": [
    {
     "name": "stderr",
     "output_type": "stream",
     "text": [
      "  0%|          | 0/23 [00:00<?, ?it/s]/var/folders/j6/lv3wvk8n4d5_56_n296yy_t00000gn/T/ipykernel_1220/953824232.py:24: FutureWarning: The provided callable <function median at 0x10375c790> is currently using DataFrameGroupBy.median. In a future version of pandas, the provided callable will be used directly. To keep current behavior pass the string \"median\" instead.\n",
      "100%|██████████| 23/23 [00:00<00:00, 472.74it/s]/var/folders/j6/lv3wvk8n4d5_56_n296yy_t00000gn/T/ipykernel_1220/953824232.py:24: FutureWarning: The provided callable <function median at 0x102034790> is currently using DataFrameGroupBy.median. In a future version of pandas, the provided callable will be used directly. To keep current behavior pass the string \"median\" instead.\n",
      "\n",
      "/var/folders/j6/lv3wvk8n4d5_56_n296yy_t00000gn/T/ipykernel_1220/953824232.py:24: FutureWarning: The provided callable <function median at 0x10565c790> is currently using DataFrameGroupBy.median. In a future version of pandas, the provided callable will be used directly. To keep current behavior pass the string \"median\" instead.\n",
      "/var/folders/j6/lv3wvk8n4d5_56_n296yy_t00000gn/T/ipykernel_1220/953824232.py:24: FutureWarning: The provided callable <function median at 0x10793c790> is currently using DataFrameGroupBy.median. In a future version of pandas, the provided callable will be used directly. To keep current behavior pass the string \"median\" instead.\n",
      "/var/folders/j6/lv3wvk8n4d5_56_n296yy_t00000gn/T/ipykernel_1220/953824232.py:24: FutureWarning: The provided callable <function median at 0x10375c790> is currently using DataFrameGroupBy.median. In a future version of pandas, the provided callable will be used directly. To keep current behavior pass the string \"median\" instead.\n",
      "/var/folders/j6/lv3wvk8n4d5_56_n296yy_t00000gn/T/ipykernel_1220/953824232.py:24: FutureWarning: The provided callable <function median at 0x102034790> is currently using DataFrameGroupBy.median. In a future version of pandas, the provided callable will be used directly. To keep current behavior pass the string \"median\" instead.\n",
      "/var/folders/j6/lv3wvk8n4d5_56_n296yy_t00000gn/T/ipykernel_1220/953824232.py:24: FutureWarning: The provided callable <function median at 0x1049fc790> is currently using DataFrameGroupBy.median. In a future version of pandas, the provided callable will be used directly. To keep current behavior pass the string \"median\" instead.\n",
      "/var/folders/j6/lv3wvk8n4d5_56_n296yy_t00000gn/T/ipykernel_1220/953824232.py:24: FutureWarning: The provided callable <function median at 0x102210790> is currently using DataFrameGroupBy.median. In a future version of pandas, the provided callable will be used directly. To keep current behavior pass the string \"median\" instead.\n",
      "/var/folders/j6/lv3wvk8n4d5_56_n296yy_t00000gn/T/ipykernel_1220/953824232.py:24: FutureWarning: The provided callable <function median at 0x10375c790> is currently using DataFrameGroupBy.median. In a future version of pandas, the provided callable will be used directly. To keep current behavior pass the string \"median\" instead.\n",
      "/var/folders/j6/lv3wvk8n4d5_56_n296yy_t00000gn/T/ipykernel_1220/953824232.py:24: FutureWarning: The provided callable <function median at 0x102034790> is currently using DataFrameGroupBy.median. In a future version of pandas, the provided callable will be used directly. To keep current behavior pass the string \"median\" instead.\n",
      "/var/folders/j6/lv3wvk8n4d5_56_n296yy_t00000gn/T/ipykernel_1220/953824232.py:24: FutureWarning: The provided callable <function median at 0x1049fc790> is currently using DataFrameGroupBy.median. In a future version of pandas, the provided callable will be used directly. To keep current behavior pass the string \"median\" instead.\n",
      "/var/folders/j6/lv3wvk8n4d5_56_n296yy_t00000gn/T/ipykernel_1220/953824232.py:24: FutureWarning: The provided callable <function median at 0x10565c790> is currently using DataFrameGroupBy.median. In a future version of pandas, the provided callable will be used directly. To keep current behavior pass the string \"median\" instead.\n",
      "/var/folders/j6/lv3wvk8n4d5_56_n296yy_t00000gn/T/ipykernel_1220/953824232.py:24: FutureWarning: The provided callable <function median at 0x102210790> is currently using DataFrameGroupBy.median. In a future version of pandas, the provided callable will be used directly. To keep current behavior pass the string \"median\" instead.\n",
      "/var/folders/j6/lv3wvk8n4d5_56_n296yy_t00000gn/T/ipykernel_1220/953824232.py:24: FutureWarning: The provided callable <function median at 0x102034790> is currently using DataFrameGroupBy.median. In a future version of pandas, the provided callable will be used directly. To keep current behavior pass the string \"median\" instead.\n",
      "/var/folders/j6/lv3wvk8n4d5_56_n296yy_t00000gn/T/ipykernel_1220/953824232.py:24: FutureWarning: The provided callable <function median at 0x10793c790> is currently using DataFrameGroupBy.median. In a future version of pandas, the provided callable will be used directly. To keep current behavior pass the string \"median\" instead.\n",
      "/var/folders/j6/lv3wvk8n4d5_56_n296yy_t00000gn/T/ipykernel_1220/953824232.py:24: FutureWarning: The provided callable <function median at 0x10565c790> is currently using DataFrameGroupBy.median. In a future version of pandas, the provided callable will be used directly. To keep current behavior pass the string \"median\" instead.\n",
      "/var/folders/j6/lv3wvk8n4d5_56_n296yy_t00000gn/T/ipykernel_1220/953824232.py:24: FutureWarning: The provided callable <function median at 0x102210790> is currently using DataFrameGroupBy.median. In a future version of pandas, the provided callable will be used directly. To keep current behavior pass the string \"median\" instead.\n",
      "/var/folders/j6/lv3wvk8n4d5_56_n296yy_t00000gn/T/ipykernel_1220/953824232.py:24: FutureWarning: The provided callable <function median at 0x1049fc790> is currently using DataFrameGroupBy.median. In a future version of pandas, the provided callable will be used directly. To keep current behavior pass the string \"median\" instead.\n",
      "/var/folders/j6/lv3wvk8n4d5_56_n296yy_t00000gn/T/ipykernel_1220/953824232.py:24: FutureWarning: The provided callable <function median at 0x106edc790> is currently using DataFrameGroupBy.median. In a future version of pandas, the provided callable will be used directly. To keep current behavior pass the string \"median\" instead.\n",
      "/var/folders/j6/lv3wvk8n4d5_56_n296yy_t00000gn/T/ipykernel_1220/953824232.py:24: FutureWarning: The provided callable <function median at 0x10565c790> is currently using DataFrameGroupBy.median. In a future version of pandas, the provided callable will be used directly. To keep current behavior pass the string \"median\" instead.\n",
      "/var/folders/j6/lv3wvk8n4d5_56_n296yy_t00000gn/T/ipykernel_1220/953824232.py:24: FutureWarning: The provided callable <function median at 0x102210790> is currently using DataFrameGroupBy.median. In a future version of pandas, the provided callable will be used directly. To keep current behavior pass the string \"median\" instead.\n",
      "/var/folders/j6/lv3wvk8n4d5_56_n296yy_t00000gn/T/ipykernel_1220/953824232.py:24: FutureWarning: The provided callable <function median at 0x1049fc790> is currently using DataFrameGroupBy.median. In a future version of pandas, the provided callable will be used directly. To keep current behavior pass the string \"median\" instead.\n",
      "/var/folders/j6/lv3wvk8n4d5_56_n296yy_t00000gn/T/ipykernel_1220/953824232.py:24: FutureWarning: The provided callable <function median at 0x10793c790> is currently using DataFrameGroupBy.median. In a future version of pandas, the provided callable will be used directly. To keep current behavior pass the string \"median\" instead.\n"
     ]
    },
    {
     "name": "stdout",
     "output_type": "stream",
     "text": [
      "Final shape: (434, 61)\n"
     ]
    }
   ],
   "source": [
    "# Extract the protein expression matrix from the adt_data object\n",
    "expr = adt_data.to_df()\n",
    "\n",
    "# Add metadata columns to the DataFrame \n",
    "expr['patient_id'] = adt_data.obs['patient_id'].values\n",
    "expr['cell_type'] = adt_data.obs['cell_type'].values\n",
    "\n",
    "# Select only numeric columns\n",
    "numeric_cols = expr.select_dtypes(include=[np.number]).columns\n",
    "\n",
    "# List of unique patient IDs\n",
    "unique_patients = expr['patient_id'].unique()\n",
    "\n",
    "# Function to process one patient at a time\n",
    "def process_patient_np(pid):\n",
    "    patient_df = expr[expr['patient_id'] == pid]\n",
    "\n",
    "    # Group by cell type and compute the median\n",
    "    grouped = patient_df.groupby('cell_type')[numeric_cols].agg(np.median)\n",
    "\n",
    "    # Add patient_id as a column for reconstructing the index later\n",
    "    grouped['patient_id'] = pid\n",
    "\n",
    "    return grouped.reset_index()  \n",
    "\n",
    "# Apply the function in parallel \n",
    "results = Parallel(n_jobs=8)(\n",
    "    delayed(process_patient_np)(pid) for pid in tqdm(unique_patients)\n",
    ")\n",
    "\n",
    "# Combine all the results into a single DataFrame\n",
    "combined_df = pd.concat(results, ignore_index=True)\n",
    "\n",
    "# Reconstruct the multi-level index (patient_id, cell_type)\n",
    "combined_df = combined_df.set_index(['patient_id', 'cell_type'])\n",
    "\n",
    "combined_df = combined_df.copy()\n",
    "\n",
    "# Print final shape of the DataFrame\n",
    "print(\"Final shape:\", combined_df.shape)\n",
    "\n",
    "# Save the aggregated dataset to CSV\n",
    "combined_df.to_csv(\"protein_agg.csv\")\n"
   ]
  },
  {
   "cell_type": "markdown",
   "metadata": {},
   "source": [
    "## PCA on ADT dataset"
   ]
  },
  {
   "cell_type": "code",
   "execution_count": 24,
   "metadata": {},
   "outputs": [
    {
     "name": "stdout",
     "output_type": "stream",
     "text": [
      "                           CD1A      CD1C       CD2       CD3      CD4  \\\n",
      "patient_id  cell_type                                                    \n",
      "SRR16208932 B cell     0.000000  0.434405  0.000000  0.536177  0.32829   \n",
      "            B_prog     0.519078  0.434405  0.393461  0.883320  0.57503   \n",
      "            CLP        0.859067  0.736248  0.675087  0.665748  0.32829   \n",
      "            Early GMP  0.000000  0.434405  0.393461  0.665748  0.57503   \n",
      "            Erythroid  0.259539  0.434405  0.393461  0.665748  0.45166   \n",
      "\n",
      "                            CD5       CD7       CD8      CD10    CD11B  ...  \\\n",
      "patient_id  cell_type                                                   ...   \n",
      "SRR16208932 B cell     0.743943  0.620490  0.609447  0.693831  0.41581  ...   \n",
      "            B_prog     0.775710  0.620490  0.609447  1.446230  0.41581  ...   \n",
      "            CLP        0.524808  0.620490  0.350450  0.405921  0.00000  ...   \n",
      "            Early GMP  0.603311  0.620490  0.350450  0.405921  0.41581  ...   \n",
      "            Erythroid  0.676097  0.763816  0.479949  0.405921  0.41581  ...   \n",
      "\n",
      "                          CD223    CD235A     CD244     CD278     CD279  \\\n",
      "patient_id  cell_type                                                     \n",
      "SRR16208932 B cell     0.743979  0.319712  0.608546  0.857709  0.647041   \n",
      "            B_prog     0.743979  0.756213  0.750005  0.644570  0.810135   \n",
      "            CLP        0.439638  0.319712  0.608546  0.000000  0.520227   \n",
      "            Early GMP  0.603342  0.319712  0.873911  0.373344  0.647041   \n",
      "            Erythroid  0.603342  0.658903  0.526137  0.644570  0.647041   \n",
      "\n",
      "                          CD294    HLA-DR       IGD       IGM     TIGIT  \n",
      "patient_id  cell_type                                                    \n",
      "SRR16208932 B cell     0.597918  0.627799  0.728479  1.162368  0.410170  \n",
      "            B_prog     0.721116  0.732571  0.728479  1.008830  0.410170  \n",
      "            CLP        0.597918  0.000000  0.429158  0.549565  0.700197  \n",
      "            Early GMP  0.704538  0.627799  0.429158  0.630739  0.410170  \n",
      "            Erythroid  0.737693  0.837344  0.429158  0.740732  0.555184  \n",
      "\n",
      "[5 rows x 61 columns]\n"
     ]
    }
   ],
   "source": [
    "# Import the dataset\n",
    "adt_data = pd.read_csv(\"protein_agg.csv\", index_col=[0, 1])\n",
    "\n",
    "# Show a preview\n",
    "print(adt_data.head())"
   ]
  },
  {
   "cell_type": "markdown",
   "metadata": {},
   "source": [
    "### Performe PCA on the entire dataset"
   ]
  },
  {
   "cell_type": "code",
   "execution_count": 25,
   "metadata": {},
   "outputs": [
    {
     "data": {
      "image/png": "[encoded data removed]",
      "text/plain": [
       "<Figure size 1000x600 with 1 Axes>"
      ]
     },
     "metadata": {},
     "output_type": "display_data"
    }
   ],
   "source": [
    "# Use only numerical features\n",
    "X = adt_data.values \n",
    "\n",
    "# Perform PCA on the entire dataset\n",
    "pca = PCA(n_components=min(X.shape))  \n",
    "pca.fit(X)\n",
    "\n",
    "# Compute cumulative explained variance\n",
    "explained_variance_cum = np.cumsum(pca.explained_variance_ratio_)\n",
    "\n",
    "# Plot\n",
    "plt.figure(figsize=(10, 6))\n",
    "plt.plot(\n",
    "    range(1, len(explained_variance_cum) + 1),\n",
    "    explained_variance_cum,\n",
    "    marker='o',\n",
    "    linestyle='--',\n",
    "    color='blue',\n",
    "    label='Cumulative Explained Variance'\n",
    ")\n",
    "\n",
    "plt.axhline(y=0.9, color='red', linestyle=':', label='90% Variance Threshold')\n",
    "\n",
    "plt.xlabel('Number of Principal Components', fontsize=12)\n",
    "plt.ylabel('Cumulative Explained Variance', fontsize=12)\n",
    "plt.title('PCA on Protein Aggregated Data', fontsize=14)\n",
    "plt.grid(True, linestyle='--', alpha=0.6)\n",
    "plt.legend()\n",
    "plt.tight_layout()\n",
    "plt.show()\n"
   ]
  },
  {
   "cell_type": "code",
   "execution_count": 26,
   "metadata": {},
   "outputs": [
    {
     "name": "stdout",
     "output_type": "stream",
     "text": [
      "Number of components needed to explain ≥90% of the variance: 22\n"
     ]
    }
   ],
   "source": [
    "# Find the number of components required to explain at least 90% of the variance\n",
    "n_components_90 = np.argmax(explained_variance_cum >= 0.9) + 1\n",
    "print(f\"Number of components needed to explain ≥90% of the variance: {n_components_90}\")"
   ]
  },
  {
   "cell_type": "code",
   "execution_count": 27,
   "metadata": {},
   "outputs": [
    {
     "name": "stdout",
     "output_type": "stream",
     "text": [
      "\n",
      "Top 10 proteins for PC1:\n",
      "CD141    0.275634\n",
      "CD161    0.250325\n",
      "CD163    0.238043\n",
      "CD138    0.233269\n",
      "CD152    0.226511\n",
      "CD33     0.212143\n",
      "CD2      0.211216\n",
      "CD45     0.197272\n",
      "CD11C    0.193357\n",
      "CD48     0.191551\n",
      "Name: PC1, dtype: float64\n",
      "\n",
      "Top 10 proteins for PC2:\n",
      "CD36     0.587041\n",
      "CD33     0.370256\n",
      "CD11C    0.280994\n",
      "CD71     0.229347\n",
      "CD61     0.188278\n",
      "CD41     0.187569\n",
      "CD161   -0.159693\n",
      "CD7     -0.149206\n",
      "CD2     -0.147119\n",
      "CD152   -0.142408\n",
      "Name: PC2, dtype: float64\n",
      "\n",
      "Top 10 proteins for PC3:\n",
      "CD2      0.315668\n",
      "CD7      0.296807\n",
      "CD5      0.280903\n",
      "CD48     0.267011\n",
      "CD141   -0.256621\n",
      "CD138   -0.252177\n",
      "CD163   -0.247950\n",
      "CD152   -0.232486\n",
      "CD45     0.229725\n",
      "CD71    -0.222042\n",
      "Name: PC3, dtype: float64\n",
      "\n",
      "Top 10 proteins for PC4:\n",
      "CD71      0.692758\n",
      "CD33     -0.261363\n",
      "CD2       0.247218\n",
      "CD7       0.240422\n",
      "CD36      0.224058\n",
      "CD19     -0.213043\n",
      "CD11C    -0.174825\n",
      "CD22     -0.173089\n",
      "HLA-DR   -0.164826\n",
      "CD8       0.158938\n",
      "Name: PC4, dtype: float64\n",
      "\n",
      "Top 10 proteins for PC5:\n",
      "CD19      0.454685\n",
      "CD71      0.384084\n",
      "IGD       0.353920\n",
      "CD22      0.334125\n",
      "CD20      0.307292\n",
      "CD33     -0.236792\n",
      "IGM       0.195243\n",
      "CD2      -0.191721\n",
      "CD45RA    0.134778\n",
      "CD4      -0.129578\n",
      "Name: PC5, dtype: float64\n",
      "\n",
      "Top 10 proteins for PC6:\n",
      "CD34      0.528999\n",
      "CD117     0.366842\n",
      "CD99      0.357239\n",
      "CD123     0.221322\n",
      "CD244     0.183763\n",
      "CD13      0.153950\n",
      "CD20     -0.144212\n",
      "CD69      0.139738\n",
      "HLA-DR    0.132008\n",
      "CD183     0.130153\n",
      "Name: PC6, dtype: float64\n",
      "\n",
      "Top 10 proteins for PC7:\n",
      "CD123    0.705708\n",
      "CD33    -0.352172\n",
      "CD4      0.244594\n",
      "CD41     0.213823\n",
      "CD71    -0.201262\n",
      "CD117   -0.167137\n",
      "CD36     0.145572\n",
      "CD11C   -0.129762\n",
      "CD244   -0.129207\n",
      "CD115   -0.125418\n",
      "Name: PC7, dtype: float64\n",
      "\n",
      "Top 10 proteins for PC8:\n",
      "CD115    0.402675\n",
      "IGD     -0.361139\n",
      "CD20    -0.313953\n",
      "CD4     -0.252131\n",
      "CD16     0.230790\n",
      "CD5     -0.219447\n",
      "CD177   -0.210546\n",
      "CD61     0.207659\n",
      "CD33    -0.180238\n",
      "CD11B    0.177545\n",
      "Name: PC8, dtype: float64\n",
      "\n",
      "Top 10 proteins for PC9:\n",
      "HLA-DR    0.482481\n",
      "CD41     -0.437831\n",
      "CD123     0.303144\n",
      "CD36     -0.265204\n",
      "CD61     -0.251199\n",
      "CD71      0.225165\n",
      "CD4       0.218859\n",
      "CD34     -0.192554\n",
      "CD33      0.182129\n",
      "IGD      -0.153140\n",
      "Name: PC9, dtype: float64\n",
      "\n",
      "Top 10 proteins for PC10:\n",
      "CD16      0.378192\n",
      "CD7       0.369387\n",
      "CD5      -0.366058\n",
      "CD4      -0.287822\n",
      "CD10     -0.279872\n",
      "CD115    -0.276677\n",
      "CD45RA    0.248525\n",
      "CD3      -0.231826\n",
      "CD20      0.170296\n",
      "CD244     0.168962\n",
      "Name: PC10, dtype: float64\n"
     ]
    }
   ],
   "source": [
    "# Extract loadings of the first 10 PC\n",
    "loadings = pca.components_[:10, :]  \n",
    "\n",
    "feature_names = adt_data.columns  \n",
    "\n",
    "# Create DataFrame of loadings\n",
    "loadings_df = pd.DataFrame(loadings.T, index=feature_names,\n",
    "                           columns=[f'PC{i+1}' for i in range(10)])\n",
    "\n",
    "# For each PC ì, show the 10 best proteins\n",
    "for pc in loadings_df.columns:\n",
    "    print(f\"\\nTop 10 proteins for {pc}:\")\n",
    "    top_loadings = loadings_df[pc].abs().sort_values(ascending=False).head(10).index\n",
    "    print(loadings_df.loc[top_loadings, pc])"
   ]
  },
  {
   "cell_type": "markdown",
   "metadata": {},
   "source": [
    "### Create scores and loadings dataset"
   ]
  },
  {
   "cell_type": "code",
   "execution_count": 28,
   "metadata": {},
   "outputs": [],
   "source": [
    "# Load the aggregated dataset as a DataFrame\n",
    "adt_data = pd.read_csv(\"protein_agg.csv\", index_col=[0, 1]) \n",
    "\n",
    "# Extract only the numeric columns \n",
    "X = adt_data.values \n",
    "\n",
    "# Perform PCA\n",
    "pca = PCA(n_components=40)\n",
    "X_pca_40 = pca.fit_transform(X)\n",
    "\n",
    "# Create a DataFrame with the 40 principal components\n",
    "df_pca_40 = pd.DataFrame(X_pca_40, columns=[f'PC{i+1}' for i in range(40)])\n",
    "\n",
    "# Restore the original multi-index (patient_id, cell_type) and add age \n",
    "df_pca_40.index = adt_data.index\n",
    "\n",
    "age_df = pd.read_csv(\"/Users/eli/Desktop/progetto applied/dataset_applied/patients_age.csv\")  \n",
    "\n",
    "df_pca_40 = df_pca_40.reset_index() \n",
    "df_pca_40 = df_pca_40.merge(age_df, on='patient_id', how='left')\n",
    "\n",
    "cols = df_pca_40.columns.tolist()\n",
    "cols.insert(2, cols.pop(cols.index('age')))\n",
    "df_pca_40 = df_pca_40[cols]\n",
    "\n",
    "df_pca_40 = df_pca_40.set_index(['patient_id', 'cell_type'])\n",
    "\n",
    "# Save to CSV\n",
    "df_pca_40.to_csv(\"pca_adt_40components_with_age.csv\")\n",
    "\n",
    "# Create loadings dataset\n",
    "feature_names = adt_data.columns\n",
    "\n",
    "# DataFrame of PCA loadings\n",
    "loadings_df = pd.DataFrame(pca.components_.T,  # transpose to have proteins as rows\n",
    "                           index=feature_names,\n",
    "                           columns=[f'PC{i+1}' for i in range(40)])\n",
    "\n",
    "# Save loadings to CSV\n",
    "loadings_df.to_csv(\"pca_adt_40components_loadings.csv\")"
   ]
  }
 ],
 "metadata": {
  "colab": {
   "provenance": []
  },
  "kernelspec": {
   "display_name": "Python 3",
   "language": "python",
   "name": "python3"
  },
  "language_info": {
   "codemirror_mode": {
    "name": "ipython",
    "version": 3
   },
   "file_extension": ".py",
   "mimetype": "text/x-python",
   "name": "python",
   "nbconvert_exporter": "python",
   "pygments_lexer": "ipython3",
   "version": "3.9.6"
  }
 },
 "nbformat": 4,
 "nbformat_minor": 0
}
